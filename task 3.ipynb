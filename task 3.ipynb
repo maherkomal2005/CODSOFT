{
 "cells": [
  {
   "cell_type": "markdown",
   "id": "bfc60128-d417-4ebc-a4da-96e79749e8ff",
   "metadata": {},
   "source": [
    "# PASSWORD GENERATOR"
   ]
  },
  {
   "cell_type": "code",
   "execution_count": 3,
   "id": "29911ec9-e730-4923-8297-5471d3ff1996",
   "metadata": {},
   "outputs": [
    {
     "name": "stdin",
     "output_type": "stream",
     "text": [
      "Enter the length of password 8\n"
     ]
    },
    {
     "name": "stdout",
     "output_type": "stream",
     "text": [
      "E S ' v h 2 ) M\n"
     ]
    }
   ],
   "source": [
    "import string\n",
    "import random \n",
    "S1=string.ascii_lowercase\n",
    "S2=string.ascii_uppercase\n",
    "S3=string.digits\n",
    "S4=string.punctuation\n",
    "#user input\n",
    "password_length=int(input(\"Enter the length of password\"))\n",
    "#Generate a password \n",
    "S=[]\n",
    "S.extend(list(S1))\n",
    "S.extend(list(S2))\n",
    "S.extend(list(S3))\n",
    "S.extend(list(S4))\n",
    "random.shuffle(S)\n",
    "#Display the password \n",
    "print(\" \".join (S[0: password_length]))"
   ]
  },
  {
   "cell_type": "code",
   "execution_count": null,
   "id": "7a9781e6-32cd-46e9-8c6b-cf01518c0b0f",
   "metadata": {},
   "outputs": [],
   "source": []
  }
 ],
 "metadata": {
  "kernelspec": {
   "display_name": "Python 3 (ipykernel)",
   "language": "python",
   "name": "python3"
  },
  "language_info": {
   "codemirror_mode": {
    "name": "ipython",
    "version": 3
   },
   "file_extension": ".py",
   "mimetype": "text/x-python",
   "name": "python",
   "nbconvert_exporter": "python",
   "pygments_lexer": "ipython3",
   "version": "3.11.7"
  }
 },
 "nbformat": 4,
 "nbformat_minor": 5
}
