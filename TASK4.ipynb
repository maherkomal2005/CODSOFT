{
 "cells": [
  {
   "cell_type": "markdown",
   "id": "89697d35-46c1-4c91-b7d2-a0ad5e0eee35",
   "metadata": {},
   "source": [
    "## ROCK,PAPER,SCISSOR"
   ]
  },
  {
   "cell_type": "code",
   "execution_count": 1,
   "id": "910f0d27-e772-4168-aec2-a1ab29df9d14",
   "metadata": {},
   "outputs": [
    {
     "data": {
      "text/plain": [
       "'\\nWORKFLOW OF PROJECT:\\n1- Input from user(Rock, paper, scissor)\\n2- Computer choice ( comp will choose randomly not conditionally)\\n3- Result print\\n\\nCases:\\nA-Rock\\nRock-Rock==tie\\nRock-Paper==paper win\\nRock-Scissor==Rock win\\n\\nB-Scissor\\nScissor-Scissor=tie\\nScissor-Rock=Rock win\\nScissor-paper=Scissor win\\n\\nC-Paper\\nPaper-Paper=tie\\nPaper-Rock=Paper win\\nPaper-Scissor=Scissor win\\n\\n'"
      ]
     },
     "execution_count": 1,
     "metadata": {},
     "output_type": "execute_result"
    }
   ],
   "source": [
    "\"\"\"\n",
    "WORKFLOW OF PROJECT:\n",
    "1- Input from user(Rock, paper, scissor)\n",
    "2- Computer choice ( comp will choose randomly not conditionally)\n",
    "3- Result print\n",
    "\n",
    "Cases:\n",
    "A-Rock\n",
    "Rock-Rock==tie\n",
    "Rock-Paper==paper win\n",
    "Rock-Scissor==Rock win\n",
    "\n",
    "B-Scissor\n",
    "Scissor-Scissor=tie\n",
    "Scissor-Rock=Rock win\n",
    "Scissor-paper=Scissor win\n",
    "\n",
    "C-Paper\n",
    "Paper-Paper=tie\n",
    "Paper-Rock=Paper win\n",
    "Paper-Scissor=Scissor win\n",
    "\n",
    "\"\"\""
   ]
  },
  {
   "cell_type": "code",
   "execution_count": 4,
   "id": "32af92e8-338d-41f8-b1d6-d2103e34a061",
   "metadata": {},
   "outputs": [
    {
     "name": "stdout",
     "output_type": "stream",
     "text": [
      "Winning rules of the game ROCK PAPER SCISSORS are:\n",
      "Rock vs Paper -> Paper wins \n",
      "Rock vs Scissors -> Rock wins \n",
      "Paper vs Scissors -> Scissors wins \n",
      "\n",
      "Enter your choice \n",
      " 1 - scissor \n",
      " 2 - Paper\n",
      " 3 - rock\n",
      "\n"
     ]
    },
    {
     "name": "stdin",
     "output_type": "stream",
     "text": [
      "Enter your choice:  3\n"
     ]
    },
    {
     "name": "stdout",
     "output_type": "stream",
     "text": [
      "User choice is: Scissors\n",
      "Now it's Computer's Turn...\n",
      "Computer choice is: rock\n",
      "Scissors vs rock\n",
      "<== It's a tie! ==>\n",
      "Do you want to play again? (Y/N)\n"
     ]
    },
    {
     "name": "stdin",
     "output_type": "stream",
     "text": [
      " n\n"
     ]
    },
    {
     "name": "stdout",
     "output_type": "stream",
     "text": [
      "Thanks for playing!\n"
     ]
    }
   ],
   "source": [
    "import random\n",
    "\n",
    "# Print multiline instruction\n",
    "print('Winning rules of the game ROCK PAPER SCISSORS are:\\n'\n",
    "      + \"Rock vs Paper -> Paper wins \\n\"\n",
    "      + \"Rock vs Scissors -> Rock wins \\n\"\n",
    "      + \"Paper vs Scissors -> Scissors wins \\n\")\n",
    "\n",
    "while True:\n",
    "\n",
    "    print(\"Enter your choice \\n 1 - scissor \\n 2 - Paper\\n 3 - rock\\n\")\n",
    "\n",
    "    ## Take the input from user\n",
    "    choice = int(input(\"Enter your choice: \"))\n",
    "\n",
    "    ##Looping until user enters valid input\n",
    "    while choice > 3 or choice < 1:\n",
    "        choice = int(input('Enter a valid choice please ☺: '))\n",
    "\n",
    "    ## Initialize value of choice_name variable corresponding to the choice value\n",
    "    if choice == 1:\n",
    "        choice_name = 'Rock'\n",
    "    elif choice == 2:\n",
    "        choice_name = 'Paper'\n",
    "    else:\n",
    "        choice_name = 'Scissors'\n",
    "\n",
    "    # Print user choice\n",
    "    print('User choice is:', choice_name)\n",
    "    print(\"Now it's Computer's Turn...\")\n",
    "\n",
    "    # Computer chooses randomly any number among 1, 2, and 3\n",
    "    comp_choice = random.randint(1, 3)\n",
    "\n",
    "    # Initialize value of comp_choice_name variable corresponding to the choice value\n",
    "    if comp_choice == 1:\n",
    "        comp_choice_name = 'scissors'\n",
    "    elif comp_choice == 2:\n",
    "        comp_choice_name = 'paper'\n",
    "    else:\n",
    "        comp_choice_name = 'rock'\n",
    "\n",
    "    print(\"Computer choice is:\", comp_choice_name)\n",
    "    print(choice_name, 'vs', comp_choice_name)\n",
    "\n",
    "    # Determine the winner\n",
    "    if choice == comp_choice:\n",
    "        result = \"DRAW\"\n",
    "    elif (choice == 1 and comp_choice == 2) or (comp_choice == 1 and choice == 2):\n",
    "        result = 'scissor'\n",
    "    elif (choice == 1 and comp_choice == 3) or (comp_choice == 1 and choice == 3):\n",
    "        result = 'paper'\n",
    "    elif (choice == 2 and comp_choice == 3) or (comp_choice == 2 and choice == 3):\n",
    "        result = 'rock'\n",
    "\n",
    "    # Print the result\n",
    "    if result == \"DRAW\":\n",
    "        print(\"<== It's a tie! ==>\")\n",
    "    elif result == choice_name:\n",
    "        print(\"<== User wins! ==>\")\n",
    "    else:\n",
    "        print(\"<== Computer wins! ==>\")\n",
    "\n",
    "    # Ask if the user wants to play again\n",
    "    print(\"Do you want to play again? (Y/N)\")\n",
    "    ans = input().lower()\n",
    "    if ans == 'n':\n",
    "        break\n",
    "\n",
    "# After coming out of the while loop, print thanks for playing\n",
    "print(\"Thanks for playing!\")"
   ]
  },
  {
   "cell_type": "code",
   "execution_count": null,
   "id": "9a12f5cd-0137-4d10-969d-15133f77bf68",
   "metadata": {},
   "outputs": [],
   "source": []
  }
 ],
 "metadata": {
  "kernelspec": {
   "display_name": "Python 3 (ipykernel)",
   "language": "python",
   "name": "python3"
  },
  "language_info": {
   "codemirror_mode": {
    "name": "ipython",
    "version": 3
   },
   "file_extension": ".py",
   "mimetype": "text/x-python",
   "name": "python",
   "nbconvert_exporter": "python",
   "pygments_lexer": "ipython3",
   "version": "3.11.7"
  }
 },
 "nbformat": 4,
 "nbformat_minor": 5
}
